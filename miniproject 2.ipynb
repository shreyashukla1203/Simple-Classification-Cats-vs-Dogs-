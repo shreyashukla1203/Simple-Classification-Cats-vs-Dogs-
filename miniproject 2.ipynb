{
 "cells": [
  {
   "cell_type": "code",
   "execution_count": 5,
   "id": "4cabdf83",
   "metadata": {},
   "outputs": [],
   "source": [
    "#install cv2"
   ]
  },
  {
   "cell_type": "code",
   "execution_count": 7,
   "id": "c29b538b",
   "metadata": {},
   "outputs": [],
   "source": [
    "import cv2 #used to grayscale and resize images \n",
    "import numpy as np #dealing with arrays \n",
    "import os #deal with directories \n",
    "from random import shuffle #mixing up our currently ordered data that might lead our network astray in training \n",
    "from tqdm import tqdm #a nice pretty percentage bar for tasks.  \n",
    "\n",
    "from PIL import Image\n",
    "import matplotlib.pyplot as plt"
   ]
  },
  {
   "cell_type": "code",
   "execution_count": 9,
   "id": "56f0fe9d",
   "metadata": {},
   "outputs": [],
   "source": [
    "TRAIN_DIR= 'C:/Users/Hp/Downloads/dogs-vs-cats/train/train'\n",
    "TEST_DIR = 'C:/Users/Hp/Downloads/dogs-vs-cats/test1/test1'\n",
    "IMG_SIZE = 50"
   ]
  },
  {
   "cell_type": "code",
   "execution_count": 10,
   "id": "2e425184",
   "metadata": {},
   "outputs": [],
   "source": [
    "def label_img(img): \n",
    "    word_label = img.split('.')[-3]\n",
    "    #conversion to binary array [cat,dog]\n",
    "    # [cat, not dog]\n",
    "    if word_label == 'cat': return [1,0]\n",
    "    # [not cat, dog]\n",
    "    elif word_label == 'dog': return [0,1] \n",
    "\n",
    "def create_train_data(): \n",
    "    training_data = [] \n",
    "    for img in tqdm(os.listdir(TRAIN_DIR)): \n",
    "        label = label_img(img)\n",
    "        path = os.path.join(TRAIN_DIR,img)\n",
    "        img = cv2.imread(path,cv2.IMREAD_GRAYSCALE)\n",
    "        img = cv2.resize(img, (IMG_SIZE,IMG_SIZE))\n",
    "        training_data.append([np.array(img),np.array(label)])\n",
    "    shuffle(training_data) \n",
    "    np.save('train_data.npy', training_data)\n",
    "    return training_data"
   ]
  },
  {
   "cell_type": "code",
   "execution_count": 11,
   "id": "5cf6113c",
   "metadata": {},
   "outputs": [
    {
     "name": "stderr",
     "output_type": "stream",
     "text": [
      "100%|██████████| 25000/25000 [03:10<00:00, 131.30it/s]\n",
      "C:\\Users\\Hp\\anaconda3\\lib\\site-packages\\numpy\\core\\_asarray.py:171: VisibleDeprecationWarning: Creating an ndarray from ragged nested sequences (which is a list-or-tuple of lists-or-tuples-or ndarrays with different lengths or shapes) is deprecated. If you meant to do this, you must specify 'dtype=object' when creating the ndarray.\n",
      "  return array(a, dtype, copy=False, order=order, subok=True)\n"
     ]
    }
   ],
   "source": [
    "train_data = create_train_data()"
   ]
  },
  {
   "cell_type": "code",
   "execution_count": 12,
   "id": "6d76a746",
   "metadata": {},
   "outputs": [],
   "source": [
    "#does the same thing for unlabeled test data \n",
    "def process_test_data(): \n",
    "    testing_data = [] \n",
    "    for img in tqdm(os.listdir(TEST_DIR)): \n",
    "        path = os.path.join(TEST_DIR,img)\n",
    "        img_num = img.split('.')[0]\n",
    "        img = cv2.imread(path,cv2.IMREAD_GRAYSCALE)\n",
    "        img = cv2.resize(img, (IMG_SIZE,IMG_SIZE)) \n",
    "        testing_data.append([np.array(img), img_num])\n",
    "    shuffle(testing_data)\n",
    "    np.save('test_data.npy', testing_data)\n",
    "    return testing_data"
   ]
  },
  {
   "cell_type": "code",
   "execution_count": 13,
   "id": "6fbd8cc7",
   "metadata": {},
   "outputs": [],
   "source": [
    "\n",
    "##Split training and testing data\n",
    "train = train_data[:-500]\n",
    "test = train_data[-500:]"
   ]
  },
  {
   "cell_type": "code",
   "execution_count": 14,
   "id": "f12249ff",
   "metadata": {},
   "outputs": [],
   "source": [
    "def reshape_response(Y): \n",
    "    train_Y = [] \n",
    "    for i in Y: \n",
    "        if i[0]==1 and i[1]==0:\n",
    "            train_Y.append(1)\n",
    "        else: \n",
    "            train_Y.append(0) \n",
    "    n = len(train_Y)\n",
    "    train_Y = np.array(train_Y).reshape((n,1))\n",
    "    return train_Y\n",
    "\n",
    "def flatten_features(X): \n",
    "    container = []\n",
    "    m,n,p,q = np.shape(X)\n",
    "    for i in range(0,m): \n",
    "        temp = X[i].flatten()\n",
    "        container.append(temp)\n",
    "    flat_array = np.vstack(container)\n",
    "    return flat_array\n"
   ]
  },
  {
   "cell_type": "code",
   "execution_count": 15,
   "id": "2dc58206",
   "metadata": {},
   "outputs": [],
   "source": [
    "##Create data arrays, split into feature and response \n",
    "trainX = np.array([i[0] for i in train]).reshape(-1,IMG_SIZE,IMG_SIZE,1) \n",
    "trainX = flatten_features(trainX)\n",
    "trainY = [i[1] for i in train]\n",
    "trainY = reshape_response(trainY)\n",
    "\n",
    "testX = np.array([i[0] for i in test]).reshape(-1,IMG_SIZE,IMG_SIZE,1)\n",
    "testX = flatten_features(testX)\n",
    "testY = [i[1] for i in test]\n",
    "testY = reshape_response(testY)"
   ]
  },
  {
   "cell_type": "code",
   "execution_count": 23,
   "id": "2daff057",
   "metadata": {},
   "outputs": [],
   "source": [
    "#import the model from sklearn\n",
    "from sklearn.linear_model import LogisticRegression\n",
    "#Make an instance of the model\n",
    "logreg = LogisticRegression()"
   ]
  },
  {
   "cell_type": "code",
   "execution_count": 24,
   "id": "8c830f48",
   "metadata": {},
   "outputs": [
    {
     "name": "stderr",
     "output_type": "stream",
     "text": [
      "C:\\Users\\Hp\\anaconda3\\lib\\site-packages\\sklearn\\linear_model\\_logistic.py:763: ConvergenceWarning: lbfgs failed to converge (status=1):\n",
      "STOP: TOTAL NO. of ITERATIONS REACHED LIMIT.\n",
      "\n",
      "Increase the number of iterations (max_iter) or scale the data as shown in:\n",
      "    https://scikit-learn.org/stable/modules/preprocessing.html\n",
      "Please also refer to the documentation for alternative solver options:\n",
      "    https://scikit-learn.org/stable/modules/linear_model.html#logistic-regression\n",
      "  n_iter_i = _check_optimize_result(\n"
     ]
    },
    {
     "data": {
      "text/plain": [
       "LogisticRegression()"
      ]
     },
     "execution_count": 24,
     "metadata": {},
     "output_type": "execute_result"
    }
   ],
   "source": [
    "logreg.fit(trainX,trainY.ravel())"
   ]
  },
  {
   "cell_type": "code",
   "execution_count": 25,
   "id": "bfa12722",
   "metadata": {},
   "outputs": [
    {
     "name": "stdout",
     "output_type": "stream",
     "text": [
      "0.536\n"
     ]
    }
   ],
   "source": [
    "score = logreg.score(testX,testY)\n",
    "print(score)"
   ]
  },
  {
   "cell_type": "code",
   "execution_count": 26,
   "id": "4373e1e1",
   "metadata": {},
   "outputs": [],
   "source": [
    "import matplotlib.pyplot as plt \n",
    "import seaborn as sns \n",
    "from sklearn import metrics"
   ]
  },
  {
   "cell_type": "code",
   "execution_count": 27,
   "id": "fb734fed",
   "metadata": {},
   "outputs": [
    {
     "name": "stdout",
     "output_type": "stream",
     "text": [
      "[[121 133]\n",
      " [ 99 147]]\n"
     ]
    }
   ],
   "source": [
    "cm = metrics.confusion_matrix(testY, predictions)\n",
    "print(cm)"
   ]
  },
  {
   "cell_type": "code",
   "execution_count": 28,
   "id": "2802d1c7",
   "metadata": {},
   "outputs": [
    {
     "data": {
      "text/plain": [
       "Text(0.5, 1.0, 'Accuracy Score: 0.536')"
      ]
     },
     "execution_count": 28,
     "metadata": {},
     "output_type": "execute_result"
    },
    {
     "data": {
      "image/png": "[encoded data removed]",
      "text/plain": [
       "<Figure size 144x144 with 2 Axes>"
      ]
     },
     "metadata": {
      "needs_background": "light"
     },
     "output_type": "display_data"
    }
   ],
   "source": [
    "plt.figure(figsize=(2,2))\n",
    "sns.heatmap(cm, annot=True, fmt=\".3f\", linewidths=.5, cmap= 'Blues_r')\n",
    "plt.ylabel('Actual Label')\n",
    "plt.xlabel('Predicted Label')\n",
    "all_sample_title = 'Accuracy Score: {0}'.format(score)\n",
    "plt.title(all_sample_title, size = 15)"
   ]
  },
  {
   "cell_type": "code",
   "execution_count": null,
   "id": "07dc83bb",
   "metadata": {},
   "outputs": [],
   "source": []
  }
 ],
 "metadata": {
  "kernelspec": {
   "display_name": "Python 3",
   "language": "python",
   "name": "python3"
  },
  "language_info": {
   "codemirror_mode": {
    "name": "ipython",
    "version": 3
   },
   "file_extension": ".py",
   "mimetype": "text/x-python",
   "name": "python",
   "nbconvert_exporter": "python",
   "pygments_lexer": "ipython3",
   "version": "3.8.8"
  }
 },
 "nbformat": 4,
 "nbformat_minor": 5
}
